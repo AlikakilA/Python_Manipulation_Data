{
 "cells": [
  {
   "cell_type": "markdown",
   "metadata": {},
   "source": [
    "# Rapport : analyse de données sur les statistiques des meurtres de journalistes dans le monde depuis 1992.\n",
    "\n",
    "**Auteurs :** \n",
    "- [Adrien FROECHLY](https://github.com/AlikakilA)\n",
    "- [Quentin GROS](https://github.com/quent1grs)\n",
    "- [Loïc GLANOIS](https://github.com/loicglanoisatynov)\n",
    "\n",
    "Ce rapport a pu être généré grâce à la base de données récupéré à l'adresse suivante : https://github.com/ali-ce/datasets/blob/master/Journalists-Killed-since-1992/Journalists.csv"
   ]
  },
  {
   "cell_type": "code",
   "execution_count": 5,
   "metadata": {},
   "outputs": [
    {
     "name": "stdout",
     "output_type": "stream",
     "text": [
      "Les librairies ont bien été importées\n"
     ]
    }
   ],
   "source": [
    "try:\n",
    "    import pandas as pd\n",
    "    import numpy as np\n",
    "    import matplotlib.pyplot as plt\n",
    "except ImportError:\n",
    "    print(\"Les librairies nécessaires ne se sont pas importées correctement\")\n",
    "else:\n",
    "    print(\"Les librairies ont bien été importées\")"
   ]
  },
  {
   "cell_type": "code",
   "execution_count": 6,
   "metadata": {},
   "outputs": [
    {
     "name": "stdout",
     "output_type": "stream",
     "text": [
      "Fichier trouvé.\n",
      "                           Name           Role            Motive   Sex  \\\n",
      "0                    Abay Hailu     Journalist  Motive Confirmed  Male   \n",
      "1          Abd al-Karim al-Ezzo     Journalist  Motive Confirmed  Male   \n",
      "2            Abdallah Bouhachek     Journalist  Motive Confirmed  Male   \n",
      "3     Abdel Aziz Mahmoud Hasoun     Journalist  Motive Confirmed  Male   \n",
      "4           Abdel Karim al-Oqda     Journalist  Motive Confirmed  Male   \n",
      "...                         ...            ...               ...   ...   \n",
      "1575           Unidentified (3)  Media Workers               NaN   NaN   \n",
      "1576           Unidentified (4)  Media Workers               NaN   NaN   \n",
      "1577            Waqas Aziz Khan  Media Workers               NaN   NaN   \n",
      "1578              Yasser Khatab  Media Workers               NaN   NaN   \n",
      "1579         Ziad Tarek al-Dibo  Media Workers               NaN   NaN   \n",
      "\n",
      "             Date Killed Year of Death Month of Death Country Killed  \\\n",
      "0      February  9, 1998          1998       February       Ethiopia   \n",
      "1      December 21, 2012          2012       December          Syria   \n",
      "2      February 10, 1996          1996       February        Algeria   \n",
      "3     September  5, 2013          2013      September          Syria   \n",
      "4     September 19, 2012          2012      September          Syria   \n",
      "...                  ...           ...            ...            ...   \n",
      "1575   February 25, 2005          2005       February           Iraq   \n",
      "1576    October 12, 2006          2006        October           Iraq   \n",
      "1577    January 17, 2014          2014        January       Pakistan   \n",
      "1578    January 27, 2004          2004        January           Iraq   \n",
      "1579    October 14, 2007          2007        October           Iraq   \n",
      "\n",
      "               Organization Nationality  ... Local/Foreign  \\\n",
      "0                    Agiere    Ethiopia  ...         Local   \n",
      "1                 Freelance       Syria  ...         Local   \n",
      "2     Révolution et Travail     Algeria  ...         Local   \n",
      "3               Masar Press       Syria  ...         Local   \n",
      "4        Shaam News Network       Syria  ...         Local   \n",
      "...                     ...         ...  ...           ...   \n",
      "1575               Al-Hurra        Iraq  ...           NaN   \n",
      "1576            Al-Shaabiya        Iraq  ...           NaN   \n",
      "1577           Express News    Pakistan  ...           NaN   \n",
      "1578                    CNN        Iraq  ...           NaN   \n",
      "1579               Al-Watan         NaN  ...           NaN   \n",
      "\n",
      "            Source of Fire             Type of Death Impunity (for Murder)  \\\n",
      "0     Government Officials      Dangerous Assignment                   NaN   \n",
      "1       Military Officials  Crossfire/Combat-Related                   NaN   \n",
      "2             Unknown Fire                    Murder                   Yes   \n",
      "3       Military Officials  Crossfire/Combat-Related                   NaN   \n",
      "4       Military Officials                    Murder                   Yes   \n",
      "...                    ...                       ...                   ...   \n",
      "1575                   NaN                       NaN                   NaN   \n",
      "1576                   NaN                       NaN                   NaN   \n",
      "1577                   NaN                       NaN                   NaN   \n",
      "1578                   NaN                       NaN                   NaN   \n",
      "1579                   NaN                       NaN                   NaN   \n",
      "\n",
      "     Taken Captive Threatened Tortured  \\\n",
      "0              Yes         No       No   \n",
      "1              NaN        NaN      NaN   \n",
      "2               No         No       No   \n",
      "3              NaN        NaN      NaN   \n",
      "4               No         No       No   \n",
      "...            ...        ...      ...   \n",
      "1575           NaN        NaN      NaN   \n",
      "1576           NaN        NaN      NaN   \n",
      "1577           NaN        NaN      NaN   \n",
      "1578           NaN        NaN      NaN   \n",
      "1579           NaN        NaN      NaN   \n",
      "\n",
      "                                         Profile on CPJ  \\\n",
      "0             http://cpj.org/killed/1998/abay-hailu.php   \n",
      "1     http://cpj.org/killed/2012/abd-al-karim-al-ezz...   \n",
      "2     http://cpj.org/killed/1996/abdallah-bouhachek.php   \n",
      "3     http://cpj.org/killed/2013/abdel-aziz-mahmoud-...   \n",
      "4     http://cpj.org/killed/2012/abdel-karim-al-oqda...   \n",
      "...                                                 ...   \n",
      "1575                                                NaN   \n",
      "1576                                                NaN   \n",
      "1577     http://cpj.org/killed/2014/waqas-aziz-khan.php   \n",
      "1578                                                NaN   \n",
      "1579                                                NaN   \n",
      "\n",
      "                                                  Image  \\\n",
      "0                                                   NaN   \n",
      "1                                                   NaN   \n",
      "2                                                   NaN   \n",
      "3                                                   NaN   \n",
      "4     http://cpj.org/killed/abuhassan.youtube.croppe...   \n",
      "...                                                 ...   \n",
      "1575                                                NaN   \n",
      "1576                                                NaN   \n",
      "1577                                                NaN   \n",
      "1578                                                NaN   \n",
      "1579                                                NaN   \n",
      "\n",
      "                                            Description  \n",
      "0     Abay, a reporter for the weekly Agiere and edi...  \n",
      "1     Al-Ezzo, a videographer who worked with the Sy...  \n",
      "2     Bouhachek, editor of Révolution et Travail, th...  \n",
      "3     Hasoun, also known as Qusay Al-Shami, was a co...  \n",
      "4     Al-Oqda, a cameraman and reporter for the citi...  \n",
      "...                                                 ...  \n",
      "1575                                                NaN  \n",
      "1576                                                NaN  \n",
      "1577  Theattack killed Khan, a broadcast technician,...  \n",
      "1578                                                NaN  \n",
      "1579                                                NaN  \n",
      "\n",
      "[1580 rows x 24 columns]\n"
     ]
    }
   ],
   "source": [
    "try:\n",
    "    df = pd.read_csv(\"Journalists.csv\")\n",
    "except FileNotFoundError:\n",
    "    print(\"Le fichier n'a pas été trouvé\")\n",
    "else:\n",
    "    print(\"Fichier trouvé.\")\n",
    "    print(df)"
   ]
  },
  {
   "cell_type": "code",
   "execution_count": 7,
   "metadata": {},
   "outputs": [
    {
     "name": "stdout",
     "output_type": "stream",
     "text": [
      "La base de données contient 1580 lignes.\n"
     ]
    }
   ],
   "source": [
    "try:\n",
    "    num_of_rows = df.shape[0]\n",
    "    print(\"La base de données contient\", num_of_rows, \"lignes.\")\n",
    "except AttributeError:\n",
    "    print(\"Erreur lors du calcul du nombre de lignes\")"
   ]
  },
  {
   "cell_type": "code",
   "execution_count": 8,
   "metadata": {},
   "outputs": [
    {
     "name": "stdout",
     "output_type": "stream",
     "text": [
      "Les colonnes de la base de données sont:\n",
      "Name\n",
      "Role\n",
      "Motive\n",
      "Sex\n",
      "Date Killed\n",
      "Year of Death\n",
      "Month of Death\n",
      "Country Killed\n",
      "Organization\n",
      "Nationality\n",
      "Medium\n",
      "Job\n",
      "Coverage\n",
      "Freelance\n",
      "Local/Foreign\n",
      "Source of Fire\n",
      "Type of Death\n",
      "Impunity (for Murder)\n",
      "Taken Captive\n",
      "Threatened\n",
      "Tortured\n",
      "Profile on CPJ\n",
      "Image\n",
      "Description\n"
     ]
    }
   ],
   "source": [
    "# Récupère les noms des colonnes\n",
    "try:\n",
    "    columns = df.columns\n",
    "    print(\"Les colonnes de la base de données sont:\")\n",
    "    for col in columns:\n",
    "        print(col)\n",
    "except AttributeError:\n",
    "    print(\"Erreur lors de la récupération des colonnes\")"
   ]
  },
  {
   "cell_type": "code",
   "execution_count": 29,
   "metadata": {},
   "outputs": [
    {
     "name": "stdout",
     "output_type": "stream",
     "text": [
      "L'entrée la plus récente correspond à Anton Voloshin, tué le June 24, 2014 en Ukraine.\n"
     ]
    }
   ],
   "source": [
    "# Affiche la date de l'entrée la plus récente. Champs à récupérer : \"Year of Death\" et \"Month of Death\". \n",
    "try:\n",
    "    # Dictionnaire pour convertir les noms des mois en nombres\n",
    "    month_map = {\n",
    "        'January': '01', 'February': '02', 'March': '03', 'April': '04',\n",
    "        'May': '05', 'June': '06', 'July': '07', 'August': '08',\n",
    "        'September': '09', 'October': '10', 'November': '11', 'December': '12'\n",
    "    }\n",
    "    \n",
    "    df_latest = df.loc[df['Year of Death'].idxmax()]\n",
    "    row = df_latest\n",
    "    print(\"L'entrée la plus récente correspond à \" + row['Name'] + \", tué le \" + row['Date Killed'] + \" en \" + str(row['Country Killed'] + \".\"))\n",
    "except KeyError:\n",
    "    print(\"Erreur lors de la récupération des dates de décès\")"
   ]
  },
  {
   "cell_type": "markdown",
   "metadata": {},
   "source": [
    "La fonction précédente indique que la dernière entrée dans le fichier date de juin 2014, et qu'on ne dispose pas des des chiffres du reste de l'année. Les données du reste de l'année seront déduites au prorata."
   ]
  }
 ],
 "metadata": {
  "kernelspec": {
   "display_name": "env_1",
   "language": "python",
   "name": "python3"
  },
  "language_info": {
   "codemirror_mode": {
    "name": "ipython",
    "version": 3
   },
   "file_extension": ".py",
   "mimetype": "text/x-python",
   "name": "python",
   "nbconvert_exporter": "python",
   "pygments_lexer": "ipython3",
   "version": "3.9.21"
  }
 },
 "nbformat": 4,
 "nbformat_minor": 2
}
