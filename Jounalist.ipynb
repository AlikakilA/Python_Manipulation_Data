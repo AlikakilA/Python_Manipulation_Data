{
  "cells": [
    {
      "cell_type": "markdown",
      "metadata": {},
      "source": [
        "# Analyse du comportement des clients d'un opérateur télécom"
      ]
    },
    {
      "cell_type": "markdown",
      "metadata": {},
      "source": [
        "Le fichier `telecom_client.csv` contient de nombreuses informations sur les clients d'un opérateur télécom. Voyons si nous pouvons analyser ce fichier pour aider l'entreprise à augmenter ses profits."
      ]
    },
    {
      "cell_type": "markdown",
      "metadata": {},
      "source": [
        "## Premiers pas avec l'ensemble de données"
      ]
    },
    {
      "cell_type": "code",
      "execution_count": null,
      "metadata": {},
      "outputs": [
        {
          "name": "stdout",
          "output_type": "stream",
          "text": [
            "     State  Account length  Area code International plan Voice mail plan  \\\n",
            "0       KS             128        415                 No             Yes   \n",
            "1       OH             107        415                 No             Yes   \n",
            "2       NJ             137        415                 No              No   \n",
            "3       OH              84        408                Yes              No   \n",
            "4       OK              75        415                Yes              No   \n",
            "...    ...             ...        ...                ...             ...   \n",
            "3328    AZ             192        415                 No             Yes   \n",
            "3329    WV              68        415                 No              No   \n",
            "3330    RI              28        510                 No              No   \n",
            "3331    CT             184        510                Yes              No   \n",
            "3332    TN              74        415                 No             Yes   \n",
            "\n",
            "      Number vmail messages  Total day minutes  Total day calls  \\\n",
            "0                        25              265.1              110   \n",
            "1                        26              161.6              123   \n",
            "2                         0              243.4              114   \n",
            "3                         0              299.4               71   \n",
            "4                         0              166.7              113   \n",
            "...                     ...                ...              ...   \n",
            "3328                     36              156.2               77   \n",
            "3329                      0              231.1               57   \n",
            "3330                      0              180.8              109   \n",
            "3331                      0              213.8              105   \n",
            "3332                     25              234.4              113   \n",
            "\n",
            "      Total day charge  Total eve minutes  Total eve calls  Total eve charge  \\\n",
            "0                45.07              197.4               99             16.78   \n",
            "1                27.47              195.5              103             16.62   \n",
            "2                41.38              121.2              110             10.30   \n",
            "3                50.90               61.9               88              5.26   \n",
            "4                28.34              148.3              122             12.61   \n",
            "...                ...                ...              ...               ...   \n",
            "3328             26.55              215.5              126             18.32   \n",
            "3329             39.29              153.4               55             13.04   \n",
            "3330             30.74              288.8               58             24.55   \n",
            "3331             36.35              159.6               84             13.57   \n",
            "3332             39.85              265.9               82             22.60   \n",
            "\n",
            "      Total night minutes  Total night calls  Total night charge  \\\n",
            "0                   244.7                 91               11.01   \n",
            "1                   254.4                103               11.45   \n",
            "2                   162.6                104                7.32   \n",
            "3                   196.9                 89                8.86   \n",
            "4                   186.9                121                8.41   \n",
            "...                   ...                ...                 ...   \n",
            "3328                279.1                 83               12.56   \n",
            "3329                191.3                123                8.61   \n",
            "3330                191.9                 91                8.64   \n",
            "3331                139.2                137                6.26   \n",
            "3332                241.4                 77               10.86   \n",
            "\n",
            "      Total intl minutes  Total intl calls  Total intl charge  \\\n",
            "0                   10.0                 3               2.70   \n",
            "1                   13.7                 3               3.70   \n",
            "2                   12.2                 5               3.29   \n",
            "3                    6.6                 7               1.78   \n",
            "4                   10.1                 3               2.73   \n",
            "...                  ...               ...                ...   \n",
            "3328                 9.9                 6               2.67   \n",
            "3329                 9.6                 4               2.59   \n",
            "3330                14.1                 6               3.81   \n",
            "3331                 5.0                10               1.35   \n",
            "3332                13.7                 4               3.70   \n",
            "\n",
            "      Customer service calls  Termination  \n",
            "0                          1        False  \n",
            "1                          1        False  \n",
            "2                          0        False  \n",
            "3                          2        False  \n",
            "4                          3        False  \n",
            "...                      ...          ...  \n",
            "3328                       2        False  \n",
            "3329                       3        False  \n",
            "3330                       2        False  \n",
            "3331                       2        False  \n",
            "3332                       0        False  \n",
            "\n",
            "[3333 rows x 20 columns]\n"
          ]
        }
      ],
      "source": [
        "# En utilisant la bibliothèque pandas, lisez le fichier telecom_client.csv\n",
        "import pandas as pd\n",
        "\n",
        "data = pd.read_csv('./telecom_client.csv')\n"
      ]
    }
  ],
  "metadata": {
    "kernelspec": {
      "display_name": "Python 3",
      "language": "python",
      "name": "python3"
    },
    "language_info": {
      "codemirror_mode": {
        "name": "ipython",
        "version": 3
      },
      "file_extension": ".py",
      "mimetype": "text/x-python",
      "name": "python",
      "nbconvert_exporter": "python",
      "pygments_lexer": "ipython3",
      "version": "3.12.7"
    }
  },
  "nbformat": 4,
  "nbformat_minor": 2
}
